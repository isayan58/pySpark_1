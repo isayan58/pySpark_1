{
 "cells": [
  {
   "cell_type": "code",
   "execution_count": 1,
   "metadata": {},
   "outputs": [
    {
     "name": "stdout",
     "output_type": "stream",
     "text": [
      "22/12/24 01:14:22 WARN Utils: Your hostname, Sayans-Macbook-Air.local resolves to a loopback address: 127.0.0.1; using 192.168.0.101 instead (on interface en0)\n",
      "22/12/24 01:14:22 WARN Utils: Set SPARK_LOCAL_IP if you need to bind to another address\n"
     ]
    },
    {
     "name": "stderr",
     "output_type": "stream",
     "text": [
      "Setting default log level to \"WARN\".\n",
      "To adjust logging level use sc.setLogLevel(newLevel). For SparkR, use setLogLevel(newLevel).\n"
     ]
    },
    {
     "name": "stdout",
     "output_type": "stream",
     "text": [
      "22/12/24 01:14:23 WARN NativeCodeLoader: Unable to load native-hadoop library for your platform... using builtin-java classes where applicable\n"
     ]
    }
   ],
   "source": [
    "from pyspark.sql import SparkSession\n",
    "spark = SparkSession.builder.appName('ReadPractice').getOrCreate()"
   ]
  },
  {
   "cell_type": "code",
   "execution_count": 7,
   "metadata": {},
   "outputs": [],
   "source": [
    "#Reading data with different type of delimiter, will work for df1\n",
    "df = spark.read.csv('/Users/sayanadhikary/Desktop/Development/pySpark_1/processed/part-00000-4d410bcc-2cad-462a-9dc8-2845d6d7e856-c000.csv', header=True, inferSchema=True)\n",
    "df1 = spark.read.format(\"com.databricks.spark.csv\").option(\"header\",\"true\").option(\"delimiter\", \"@~\").load('/Users/sayanadhikary/Desktop/Development/pySpark_1/processed/part-00000-4d410bcc-2cad-462a-9dc8-2845d6d7e856-c000.csv')"
   ]
  },
  {
   "cell_type": "code",
   "execution_count": 5,
   "metadata": {},
   "outputs": [
    {
     "name": "stdout",
     "output_type": "stream",
     "text": [
      "+-----------------------------------------------+\n",
      "|Date@~Open@~High@~Low@~Close@~Volume@~Adj Close|\n",
      "+-----------------------------------------------+\n",
      "|                           2012-01-03T00:00:...|\n",
      "|                           2012-01-04T00:00:...|\n",
      "|                           2012-01-05T00:00:...|\n",
      "|                           2012-01-06T00:00:...|\n",
      "|                           2012-01-09T00:00:...|\n",
      "|                           2012-01-10T00:00:...|\n",
      "|                           2012-01-11T00:00:...|\n",
      "|                           2012-01-12T00:00:...|\n",
      "|                           2012-01-13T00:00:...|\n",
      "|                           2012-01-17T00:00:...|\n",
      "|                           2012-01-18T00:00:...|\n",
      "|                           2012-01-19T00:00:...|\n",
      "|                           2012-01-20T00:00:...|\n",
      "|                           2012-01-23T00:00:...|\n",
      "|                           2012-01-24T00:00:...|\n",
      "|                           2012-01-25T00:00:...|\n",
      "|                           2012-01-26T00:00:...|\n",
      "|                           2012-01-27T00:00:...|\n",
      "|                           2012-01-30T00:00:...|\n",
      "|                           2012-01-31T00:00:...|\n",
      "+-----------------------------------------------+\n",
      "only showing top 20 rows\n",
      "\n"
     ]
    }
   ],
   "source": [
    "df.show()"
   ]
  },
  {
   "cell_type": "code",
   "execution_count": 8,
   "metadata": {},
   "outputs": [
    {
     "name": "stdout",
     "output_type": "stream",
     "text": [
      "+--------------------+------------------+------------------+------------------+------------------+--------+------------------+\n",
      "|                Date|              Open|              High|               Low|             Close|  Volume|         Adj Close|\n",
      "+--------------------+------------------+------------------+------------------+------------------+--------+------------------+\n",
      "|2012-01-03T00:00:...|         59.970001|         61.060001|         59.869999|         60.330002|12668800|52.619234999999996|\n",
      "|2012-01-04T00:00:...|60.209998999999996|         60.349998|         59.470001|59.709998999999996| 9593300|         52.078475|\n",
      "|2012-01-05T00:00:...|         59.349998|         59.619999|         58.369999|         59.419998|12768200|         51.825539|\n",
      "|2012-01-06T00:00:...|         59.419998|         59.450001|         58.869999|              59.0| 8069400|          51.45922|\n",
      "|2012-01-09T00:00:...|         59.029999|         59.549999|         58.919998|             59.18| 6679300|51.616215000000004|\n",
      "|2012-01-10T00:00:...|             59.43|59.709998999999996|             58.98|59.040001000000004| 6907300|         51.494109|\n",
      "|2012-01-11T00:00:...|         59.060001|         59.529999|59.040001000000004|         59.400002| 6365600|         51.808098|\n",
      "|2012-01-12T00:00:...|59.790001000000004|              60.0|         59.400002|              59.5| 7236400|51.895315999999994|\n",
      "|2012-01-13T00:00:...|             59.18|59.610001000000004|59.009997999999996|59.540001000000004| 7729300|51.930203999999996|\n",
      "|2012-01-17T00:00:...|         59.869999|60.110001000000004|             59.52|         59.849998| 8500000|         52.200581|\n",
      "|2012-01-18T00:00:...|59.790001000000004|         60.029999|         59.650002|60.009997999999996| 5911400|         52.340131|\n",
      "|2012-01-19T00:00:...|             59.93|             60.73|             59.75|60.610001000000004| 9234600|         52.863447|\n",
      "|2012-01-20T00:00:...|             60.75|             61.25|         60.669998|61.009997999999996|10378800|53.212320999999996|\n",
      "|2012-01-23T00:00:...|         60.810001|             60.98|60.509997999999996|             60.91| 7134100|         53.125104|\n",
      "|2012-01-24T00:00:...|             60.75|              62.0|             60.75|61.389998999999996| 7362800| 53.54375400000001|\n",
      "|2012-01-25T00:00:...|             61.18|61.610001000000004|61.040001000000004|         61.470001| 5915800| 53.61353100000001|\n",
      "|2012-01-26T00:00:...|         61.799999|             61.84|             60.77|         60.970001| 7436200|         53.177436|\n",
      "|2012-01-27T00:00:...|60.860001000000004|         61.119999|60.540001000000004|60.709998999999996| 6287300|         52.950665|\n",
      "|2012-01-30T00:00:...|         60.470001|             61.32|         60.349998|         61.299999| 7636900|53.465256999999994|\n",
      "|2012-01-31T00:00:...|         61.529999|             61.57|         60.580002|61.360001000000004| 9761500|53.517590000000006|\n",
      "+--------------------+------------------+------------------+------------------+------------------+--------+------------------+\n",
      "only showing top 20 rows\n",
      "\n"
     ]
    }
   ],
   "source": [
    "df1.show()"
   ]
  },
  {
   "cell_type": "code",
   "execution_count": null,
   "metadata": {},
   "outputs": [],
   "source": []
  }
 ],
 "metadata": {
  "kernelspec": {
   "display_name": "Python 3",
   "language": "python",
   "name": "python3"
  },
  "language_info": {
   "codemirror_mode": {
    "name": "ipython",
    "version": 3
   },
   "file_extension": ".py",
   "mimetype": "text/x-python",
   "name": "python",
   "nbconvert_exporter": "python",
   "pygments_lexer": "ipython3",
   "version": "3.9.4"
  },
  "orig_nbformat": 4,
  "vscode": {
   "interpreter": {
    "hash": "5bfc912a951e3c7a20e059b70bb9571d52cfee82d9f8c424c9502be2174941fb"
   }
  }
 },
 "nbformat": 4,
 "nbformat_minor": 2
}
